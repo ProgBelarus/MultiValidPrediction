{
 "cells": [
  {
   "cell_type": "markdown",
   "metadata": {},
   "source": [
    "## Imports and preliminaries"
   ]
  },
  {
   "cell_type": "code",
   "execution_count": 188,
   "metadata": {
    "colab": {
     "base_uri": "https://localhost:8080/"
    },
    "executionInfo": {
     "elapsed": 23548,
     "status": "ok",
     "timestamp": 1648492251609,
     "user": {
      "displayName": "DaEto Georgy",
      "userId": "07578216823519586108"
     },
     "user_tz": 240
    },
    "id": "zAOPTJsJylLV",
    "outputId": "780637ec-b5ad-4bd7-8589-9da90bca9e46"
   },
   "outputs": [],
   "source": [
    "import sys, os\n",
    "sys.path.append(os.path.join(os.getcwd(), '../src'))\n",
    "import numpy as np\n",
    "import matplotlib.pyplot as plt\n",
    "import pdb\n",
    "\n",
    "import recursiveLeastSquares\n",
    "import splitConformalPrediction\n",
    "from MultiValidPrediction import MultiValidPrediction\n",
    "from calibrationScorers import residualCalibrationScorer, customResidualCalibrationScorer"
   ]
  },
  {
   "cell_type": "code",
   "execution_count": 189,
   "metadata": {
    "executionInfo": {
     "elapsed": 176,
     "status": "ok",
     "timestamp": 1648492390471,
     "user": {
      "displayName": "DaEto Georgy",
      "userId": "07578216823519586108"
     },
     "user_tz": 240
    },
    "id": "Pg8-sRiVylLY"
   },
   "outputs": [],
   "source": [
    "# Define group that includes all points\n",
    "\n",
    "def all_points(x):\n",
    "    return True\n",
    "\n",
    "basic_group = [all_points]\n",
    "num_groups = len(basic_group)"
   ]
  },
  {
   "cell_type": "markdown",
   "metadata": {},
   "source": [
    "## Synthetic Experiment - Comparing split-conformal prediction against MVP: Single Trial"
   ]
  },
  {
   "cell_type": "markdown",
   "metadata": {},
   "source": [
    "##### Set all parameters for single trial"
   ]
  },
  {
   "cell_type": "code",
   "execution_count": 195,
   "metadata": {},
   "outputs": [],
   "source": [
    "# Parameters for our uncertainty quantifier\n",
    "T = 2000\n",
    "n = 40\n",
    "r = 800000\n",
    "delta = 0.1\n",
    "K_e = 2.12 \n",
    "\n",
    "eta = np.sqrt(np.log(num_groups * n) / (2 * K_e * num_groups * n))\n",
    "\n",
    "# Parameters for data generation\n",
    "x_std = 0.1\n",
    "y_std = 0.2\n",
    "d = 300"
   ]
  },
  {
   "cell_type": "markdown",
   "metadata": {},
   "source": [
    "##### Generating data defined by ordinary least-squares model "
   ]
  },
  {
   "cell_type": "code",
   "execution_count": 210,
   "metadata": {},
   "outputs": [],
   "source": [
    "theta = np.random.normal(loc=np.zeros(d), scale=x_std)\n",
    "\n",
    "# Generating input-output pairs for T time-steps. Labels are defined by an ordinary least-squares model. \n",
    "xs_binvars = np.random.randint(low = 0, high = 2, size = (T, 10))\n",
    "xs_remvars = np.random.normal(loc=np.zeros(d - 10), scale=x_std, size=(T, d - 10))\n",
    "xs = np.concatenate((xs_binvars, xs_remvars), axis = 1)\n",
    "ys = np.dot(xs, theta) + np.random.normal(loc=0, scale=y_std, size=T)"
   ]
  },
  {
   "cell_type": "markdown",
   "metadata": {
    "id": "bvk1enYMylLf"
   },
   "source": [
    "##### Initializing uncertainty-quantifiers and small initial calibration set for split-conformal prediction "
   ]
  },
  {
   "cell_type": "code",
   "execution_count": 211,
   "metadata": {
    "executionInfo": {
     "elapsed": 196,
     "status": "ok",
     "timestamp": 1648492431011,
     "user": {
      "displayName": "DaEto Georgy",
      "userId": "07578216823519586108"
     },
     "user_tz": 240
    },
    "id": "I0I7N5q7ylLg"
   },
   "outputs": [],
   "source": [
    "myUncertaintyQuantifier = MultiValidPrediction(delta, n, basic_group, eta, r, normalize_by_counts=False)\n",
    "myConformalPredictor = splitConformalPrediction.splitConformal(num_groups, basic_group, delta)\n",
    "\n",
    "myRLS_conformal = recursiveLeastSquares.RLS(d, 1.0, 1)\n",
    "myRLS_ours = recursiveLeastSquares.RLS(d, 1.0, 1)\n",
    "\n",
    "mult_factor = 1\n",
    "myResidualCalibrationScorer = customResidualCalibrationScorer.customResidualCalibrationScorer(mult_factor)\n",
    "\n",
    "# arrays for MVP\n",
    "q_array = []\n",
    "y_pred_ours_array = []\n",
    "covered_ours_array = []\n",
    "\n",
    "# arrays for conformal prediction\n",
    "y_pred_conformal_array = []\n",
    "w_t_conformal_array = []\n",
    "covered_conformal_array = []\n",
    "\n",
    "init_size = 10\n",
    "conformal_calibration_xs_binvars = np.random.randint(low = 0, high = 2, size = (init_size, 10))\n",
    "conformal_calibration_xs_remvars = np.random.normal(loc=np.zeros(d - 10), scale=x_std, size=(init_size, d - 10))\n",
    "xs_cc = np.concatenate((conformal_calibration_xs_binvars, conformal_calibration_xs_remvars), axis = 1)\n",
    "ys_cc = np.dot(xs_cc, theta) + np.random.normal(loc=0, scale=y_std, size=init_size)\n",
    "\n",
    "for i, curr_y in enumerate(ys_cc):\n",
    "    curr_x = xs_cc[i]\n",
    "    myConformalPredictor.update_calibration_data(curr_x, curr_y)"
   ]
  },
  {
   "cell_type": "markdown",
   "metadata": {},
   "source": [
    "##### Running MVP and split-conformal prediction across generated data"
   ]
  },
  {
   "cell_type": "code",
   "execution_count": 212,
   "metadata": {
    "executionInfo": {
     "elapsed": 4106,
     "status": "ok",
     "timestamp": 1648492438701,
     "user": {
      "displayName": "DaEto Georgy",
      "userId": "07578216823519586108"
     },
     "user_tz": 240
    },
    "id": "-zxrB6ijylLh"
   },
   "outputs": [
    {
     "name": "stdout",
     "output_type": "stream",
     "text": [
      "Trial complete\n"
     ]
    }
   ],
   "source": [
    "for t in range(T):\n",
    "    x_t = xs[t]\n",
    "    y_t = ys[t]\n",
    "\n",
    "    # 1. SPLIT-CONFORMAL\n",
    "    y_pred_conformal_t = myRLS_conformal.predict(x_t)\n",
    "    myResidualCalibrationScorer.update(myRLS_conformal.predict)\n",
    "    w_t_conformal = myConformalPredictor.select_best_width(myResidualCalibrationScorer, x_t)\n",
    "    \n",
    "    conformal_prediction_set = myResidualCalibrationScorer.get_prediction_set(x_t, w_t_conformal, mult_factor)\n",
    "\n",
    "    covered_conformal_t = conformal_prediction_set.cover(y_t)\n",
    "#   (1 if y_pred_conformal_t - w_t_conformal < y_t < y_pred_conformal_t + w_t_conformal else 0)\n",
    "\n",
    "    # Adding new time-step data into either calibration data-set or to update model\n",
    "    if t % 2 == 0:\n",
    "        # Update the the calibration data set\n",
    "        myConformalPredictor.update_calibration_data(x_t, y_t)  \n",
    "    else:\n",
    "        # update the linear regression model\n",
    "        myRLS_conformal.add_obs(x_t.T, y_t)\n",
    "\n",
    "    y_pred_conformal_array.append(y_pred_conformal_t)\n",
    "    w_t_conformal_array.append(w_t_conformal)\n",
    "    covered_conformal_array.append(covered_conformal_t)\n",
    "\n",
    "    # 2. MVP\n",
    "    y_pred_ours_t = myRLS_ours.predict(x_t)\n",
    "    myResidualCalibrationScorer.update(myRLS_ours.predict)\n",
    "\n",
    "    q_t = myUncertaintyQuantifier.predict(x_t)\n",
    "    curr_prediction_set = myResidualCalibrationScorer.get_prediction_set(x_t, q_t, mult_factor)\n",
    "\n",
    "    covered_ours_t = curr_prediction_set.cover(y_t)\n",
    "\n",
    "    s_t = myResidualCalibrationScorer.calc_score(x_t, y_t)\n",
    "\n",
    "    myRLS_ours.add_obs(x_t.T, y_t)\n",
    "    myUncertaintyQuantifier.update(x_t, q_t, s_t)\n",
    "\n",
    "    y_pred_ours_array.append(y_pred_ours_t)\n",
    "    q_array.append(q_t)\n",
    "    covered_ours_array.append(covered_ours_t)\n",
    "print('Trial complete')"
   ]
  },
  {
   "cell_type": "markdown",
   "metadata": {},
   "source": [
    "##### Overall statistics"
   ]
  },
  {
   "cell_type": "code",
   "execution_count": 213,
   "metadata": {
    "colab": {
     "base_uri": "https://localhost:8080/"
    },
    "executionInfo": {
     "elapsed": 159,
     "status": "ok",
     "timestamp": 1648492456525,
     "user": {
      "displayName": "DaEto Georgy",
      "userId": "07578216823519586108"
     },
     "user_tz": 240
    },
    "id": "14nVtTTIylLi",
    "outputId": "e9b0a906-d6b6-437d-e6d7-59344da30ca3"
   },
   "outputs": [
    {
     "name": "stdout",
     "output_type": "stream",
     "text": [
      "*** MARGINAL COVERAGE ***\n",
      "Split-conformal: 0.8945\n",
      "MVP: 0.9\n",
      "\n",
      "*** PREDICTION INTERVAL WIDTH *** \n",
      "Split-conformal: 0.8310368231492312\n",
      "MVP: 0.7918499725000001\n",
      "\n",
      "*** SQUARED LOSS ***\n",
      "Split-conformal: 11.327922737128382\n",
      "MVP: 10.728205404753648\n"
     ]
    }
   ],
   "source": [
    "y_pred_conformal_array = np.array(y_pred_conformal_array)\n",
    "w_t_conformal_array = np.array(w_t_conformal_array)\n",
    "\n",
    "y_pred_ours_array = np.array(y_pred_ours_array)\n",
    "q_array = np.array(q_array)    \n",
    "\n",
    "print(\"*** MARGINAL COVERAGE ***\")\n",
    "print(\"Split-conformal: {0}\".format(np.average(covered_conformal_array)))\n",
    "print(\"MVP: {0}\".format(np.average(covered_ours_array)))\n",
    "print(\"\")\n",
    "\n",
    "print(\"*** PREDICTION INTERVAL WIDTH *** \")\n",
    "# Width of interval is twice the conformal-score value\n",
    "print(\"Split-conformal: {0}\".format(2 * np.average(w_t_conformal_array)))\n",
    "print(\"MVP: {0}\".format(2 * np.average(q_array)))\n",
    "print(\"\")\n",
    "\n",
    "print(\"*** SQUARED LOSS ***\")\n",
    "squared_loss_conformal = np.linalg.norm(ys - y_pred_conformal_array)\n",
    "squared_loss_ours = np.linalg.norm(ys - y_pred_ours_array)\n",
    "print(\"Split-conformal: {0}\".format(squared_loss_conformal))\n",
    "print(\"MVP: {0}\".format(squared_loss_ours))"
   ]
  },
  {
   "cell_type": "markdown",
   "metadata": {},
   "source": [
    "##### Plots "
   ]
  },
  {
   "cell_type": "code",
   "execution_count": 214,
   "metadata": {
    "colab": {
     "base_uri": "https://localhost:8080/",
     "height": 295
    },
    "executionInfo": {
     "elapsed": 399,
     "status": "ok",
     "timestamp": 1648492477010,
     "user": {
      "displayName": "DaEto Georgy",
      "userId": "07578216823519586108"
     },
     "user_tz": 240
    },
    "id": "sR18uizPylLi",
    "outputId": "1449ed57-da4e-4353-bbea-641161645a3b"
   },
   "outputs": [
    {
     "data": {
      "image/png": "[encoded data removed]",
      "text/plain": [
       "<Figure size 432x288 with 1 Axes>"
      ]
     },
     "metadata": {
      "needs_background": "light"
     },
     "output_type": "display_data"
    }
   ],
   "source": [
    "# Plotting the prediction interval width for both methods across all rounds\n",
    "\n",
    "# Width of interval is twice the conformal-score value\n",
    "plt.plot(range(T), 2 * w_t_conformal_array, label='Split-conformal')\n",
    "plt.plot(range(T), 2 * q_array, label='MVP')\n",
    "\n",
    "\n",
    "plt.legend(loc=\"upper right\")\n",
    "plt.xlabel(\"round t\")\n",
    "plt.ylabel(\"Interval width\")\n",
    "plt.title(\"Prediction Interval Width in each round\")\n",
    "plt.show()"
   ]
  },
  {
   "cell_type": "code",
   "execution_count": 215,
   "metadata": {
    "colab": {
     "base_uri": "https://localhost:8080/",
     "height": 282
    },
    "executionInfo": {
     "elapsed": 1769,
     "status": "ok",
     "timestamp": 1648492503363,
     "user": {
      "displayName": "DaEto Georgy",
      "userId": "07578216823519586108"
     },
     "user_tz": 240
    },
    "id": "yFvyxFTtylLk",
    "outputId": "bb24f7bf-a3b1-492e-ebc1-58fb1b615fba"
   },
   "outputs": [
    {
     "data": {
      "image/png": "[encoded data removed]",
      "text/plain": [
       "<Figure size 432x288 with 1 Axes>"
      ]
     },
     "metadata": {
      "needs_background": "light"
     },
     "output_type": "display_data"
    }
   ],
   "source": [
    "# Plotting marginal coverage over time for split-conformal\n",
    "\n",
    "covered_conformal_over_time = [np.average(covered_conformal_array[:t+1]) for t in range(len(covered_conformal_array))]\n",
    "plt.plot(range(T), covered_conformal_over_time)\n",
    "\n",
    "\n",
    "plt.xlabel(\"No. of rounds\")\n",
    "plt.ylabel(\"Marginal coverage\")\n",
    "plt.axhline(y = 1 - delta, color = 'red', linestyle = '-', linewidth = 0.9)\n",
    "plt.text(T, 1 - delta + 0.01, '  desired coverage')\n",
    "plt.title(\"Coverage over time: Split-conformal\")\n",
    "plt.show()"
   ]
  },
  {
   "cell_type": "code",
   "execution_count": 216,
   "metadata": {
    "colab": {
     "base_uri": "https://localhost:8080/",
     "height": 282
    },
    "executionInfo": {
     "elapsed": 634,
     "status": "ok",
     "timestamp": 1648492529836,
     "user": {
      "displayName": "DaEto Georgy",
      "userId": "07578216823519586108"
     },
     "user_tz": 240
    },
    "id": "UxlLSpxEylLk",
    "outputId": "fe587ba7-0df5-4bf2-d995-f358ca6a5c35"
   },
   "outputs": [
    {
     "data": {
      "image/png": "[encoded data removed]",
      "text/plain": [
       "<Figure size 432x288 with 1 Axes>"
      ]
     },
     "metadata": {
      "needs_background": "light"
     },
     "output_type": "display_data"
    }
   ],
   "source": [
    "# Plotting marginal coverage across time for MVP\n",
    "\n",
    "covered_our_over_time = [np.average(covered_ours_array[:t+1]) for t in range(len(covered_ours_array))]\n",
    "plt.plot(range(T), covered_our_over_time)\n",
    "\n",
    "plt.xlabel(\"No. of rounds\")\n",
    "plt.ylabel(\"Marginal coverage\")\n",
    "plt.axhline(y = 1 - delta, color = 'red', linestyle = '-', linewidth = 0.9)\n",
    "plt.text(T, 1 - delta + 0.01, '  desired coverage')\n",
    "plt.title(\"Coverage over time: MVP\")\n",
    "plt.show()"
   ]
  },
  {
   "cell_type": "markdown",
   "metadata": {},
   "source": [
    "## Running several trials"
   ]
  },
  {
   "cell_type": "markdown",
   "metadata": {},
   "source": [
    "##### Set all parameters and number of trials to run"
   ]
  },
  {
   "cell_type": "code",
   "execution_count": 179,
   "metadata": {},
   "outputs": [],
   "source": [
    "# Parameters for our uncertainty quantifier\n",
    "T = 2000\n",
    "n = 40\n",
    "r = 8000000\n",
    "delta = 0.1\n",
    "K_e = 2.12\n",
    "\n",
    "def all_points(x):\n",
    "    return True\n",
    "\n",
    "basic_group = [all_points]\n",
    "num_groups = len(basic_group)\n",
    "eta = np.sqrt(np.log(num_groups * n) / (2 * K_e * num_groups * n))\n",
    "keep_track_v_dict = True\n",
    "\n",
    "# data generation - constants\n",
    "x_std = 0.1\n",
    "y_std = 0.2\n",
    "d = 300 # choose d > 10\n",
    "mult_factor = 2\n",
    "\n",
    "# How many trials would you like to run?\n",
    "num_rounds = 100"
   ]
  },
  {
   "cell_type": "markdown",
   "metadata": {},
   "source": [
    "##### Start trials"
   ]
  },
  {
   "cell_type": "code",
   "execution_count": 183,
   "metadata": {},
   "outputs": [
    {
     "name": "stdout",
     "output_type": "stream",
     "text": [
      "Running trial: 0\n",
      "Running trial: 1\n",
      "Running trial: 2\n",
      "Running trial: 3\n",
      "Running trial: 4\n",
      "Running trial: 5\n",
      "Running trial: 6\n",
      "Running trial: 7\n",
      "Running trial: 8\n",
      "Running trial: 9\n",
      "Running trial: 10\n",
      "Running trial: 11\n",
      "Running trial: 12\n",
      "Running trial: 13\n",
      "Running trial: 14\n",
      "Running trial: 15\n",
      "Running trial: 16\n",
      "Running trial: 17\n",
      "Running trial: 18\n",
      "Running trial: 19\n",
      "Running trial: 20\n",
      "Running trial: 21\n",
      "Running trial: 22\n",
      "Running trial: 23\n",
      "Running trial: 24\n",
      "Running trial: 25\n",
      "Running trial: 26\n",
      "Running trial: 27\n",
      "Running trial: 28\n",
      "Running trial: 29\n",
      "Running trial: 30\n",
      "Running trial: 31\n",
      "Running trial: 32\n",
      "Running trial: 33\n",
      "Running trial: 34\n",
      "Running trial: 35\n",
      "Running trial: 36\n",
      "Running trial: 37\n",
      "Running trial: 38\n",
      "Running trial: 39\n",
      "Running trial: 40\n",
      "Running trial: 41\n",
      "Running trial: 42\n",
      "Running trial: 43\n",
      "Running trial: 44\n",
      "Running trial: 45\n",
      "Running trial: 46\n",
      "Running trial: 47\n",
      "Running trial: 48\n",
      "Running trial: 49\n",
      "Running trial: 50\n",
      "Running trial: 51\n",
      "Running trial: 52\n",
      "Running trial: 53\n",
      "Running trial: 54\n",
      "Running trial: 55\n",
      "Running trial: 56\n",
      "Running trial: 57\n",
      "Running trial: 58\n",
      "Running trial: 59\n",
      "Running trial: 60\n",
      "Running trial: 61\n",
      "Running trial: 62\n",
      "Running trial: 63\n",
      "Running trial: 64\n",
      "Running trial: 65\n",
      "Running trial: 66\n",
      "Running trial: 67\n",
      "Running trial: 68\n",
      "Running trial: 69\n",
      "Running trial: 70\n",
      "Running trial: 71\n",
      "Running trial: 72\n",
      "Running trial: 73\n",
      "Running trial: 74\n",
      "Running trial: 75\n",
      "Running trial: 76\n",
      "Running trial: 77\n",
      "Running trial: 78\n",
      "Running trial: 79\n",
      "Running trial: 80\n",
      "Running trial: 81\n",
      "Running trial: 82\n",
      "Running trial: 83\n",
      "Running trial: 84\n",
      "Running trial: 85\n",
      "Running trial: 86\n",
      "Running trial: 87\n",
      "Running trial: 88\n",
      "Running trial: 89\n",
      "Running trial: 90\n",
      "Running trial: 91\n",
      "Running trial: 92\n",
      "Running trial: 93\n",
      "Running trial: 94\n",
      "Running trial: 95\n",
      "Running trial: 96\n",
      "Running trial: 97\n",
      "Running trial: 98\n",
      "Running trial: 99\n",
      "All trials complete\n"
     ]
    }
   ],
   "source": [
    "coverage_conformal_per_round = np.zeros(num_rounds)\n",
    "coverage_ours_per_round = np.zeros(num_rounds)\n",
    "width_conformal_per_round = np.zeros(num_rounds)\n",
    "width_ours_per_round = np.zeros(num_rounds)\n",
    "\n",
    "for k in range(num_rounds):\n",
    "    print('Running trial: ' + str(k))\n",
    "    # data generation - random for each run\n",
    "\n",
    "    theta = np.random.normal(loc=np.zeros(d), scale=x_std)\n",
    "\n",
    "    # d-dimension features - first 10 features are binary\n",
    "    xs_binvars = np.random.randint(low = 0, high = 2, size = (T, 10))\n",
    "    xs_remvars = np.random.normal(loc=np.zeros(d - 10), scale=x_std, size=(T, d - 10))\n",
    "    xs = np.concatenate((xs_binvars, xs_remvars), axis = 1)\n",
    "    # Elements of xs which are in an odd number of \"positive\" groups [value = 1] will have more noise\n",
    "    ys = np.dot(xs, theta) + np.random.normal(loc=0, scale= y_std, size=T)\n",
    "    \n",
    "    # Defining all uncertainty quantifiers and regressors\n",
    "    myUncertaintyQuantifier = MultiValidPrediction(delta, n, basic_group, eta, r, normalize_by_counts=False)\n",
    "    myConformalPredictor = splitConformalPrediction.splitConformal(num_groups, groups, delta)\n",
    "    myRLS_conformal = recursiveLeastSquares.RLS(d, 1.0, 1)\n",
    "    myRLS_ours = recursiveLeastSquares.RLS(d, 1.0, 1)\n",
    "\n",
    "    myResidualCalibrationScorer = customResidualCalibrationScorer.customResidualCalibrationScorer(mult_factor)\n",
    "\n",
    "    # arrays for MVP\n",
    "    q_array = []\n",
    "    y_pred_ours_array = []\n",
    "    covered_ours_array = []\n",
    "\n",
    "    # arrays for conformal prediction\n",
    "    y_pred_conformal_array = []\n",
    "    w_t_conformal_array = []\n",
    "    covered_conformal_array = []\n",
    "\n",
    "    # Conformal warm-start calibration set using the same distribution. \n",
    "    init_size = 15\n",
    "    conformal_calibration_xs_binvars = np.random.randint(low = 0, high = 2, size = (init_size, 10))\n",
    "    conformal_calibration_xs_remvars = np.random.normal(loc=np.zeros(d - 10), scale=x_std, size=(init_size, d - 10))\n",
    "    xs_cc = np.concatenate((conformal_calibration_xs_binvars, conformal_calibration_xs_remvars), axis = 1)\n",
    "    ys_cc = np.dot(xs_cc, theta) + np.random.normal(loc=0, scale= y_std, size=init_size)\n",
    "\n",
    "    for i, curr_y in enumerate(ys_cc):\n",
    "        curr_x = xs_cc[i]\n",
    "        myConformalPredictor.update_calibration_data(curr_x, curr_y)\n",
    "    \n",
    "    # Run algorithms\n",
    "    \n",
    "    for t in range(T):\n",
    "        x_t = xs[t]\n",
    "        y_t = ys[t]\n",
    "\n",
    "        # 1. CONFORMAL PREDICTION\n",
    "\n",
    "        y_pred_conformal_t = myRLS_conformal.predict(x_t)\n",
    "        myResidualCalibrationScorer.update(myRLS_conformal.predict)\n",
    "\n",
    "        w_t_conformal = myConformalPredictor.select_best_width(myResidualCalibrationScorer, x_t)\n",
    "        conformal_prediction_set = myResidualCalibrationScorer.get_prediction_set(x_t, w_t_conformal, mult_factor)\n",
    "\n",
    "        covered_conformal_t = conformal_prediction_set.cover(y_t)\n",
    "\n",
    "        if t % 2 == 0:\n",
    "            myConformalPredictor.update_calibration_data(x_t, y_t)\n",
    "        else:\n",
    "            # update the linear regression model\n",
    "            myRLS_conformal.add_obs(x_t, y_t)\n",
    "\n",
    "        y_pred_conformal_array.append(y_pred_conformal_t)\n",
    "        w_t_conformal_array.append(mult_factor * w_t_conformal)\n",
    "        covered_conformal_array.append(covered_conformal_t)\n",
    "\n",
    "        # 2. MVP\n",
    "        y_pred_ours_t = myRLS_ours.predict(x_t)\n",
    "        myResidualCalibrationScorer.update(myRLS_ours.predict)\n",
    "\n",
    "        q_t = myUncertaintyQuantifier.predict(x_t)\n",
    "        curr_prediction_set = myResidualCalibrationScorer.get_prediction_set(x_t, q_t, mult_factor)\n",
    "\n",
    "        covered_ours_t = curr_prediction_set.cover(y_t)\n",
    "\n",
    "        s_t = myResidualCalibrationScorer.calc_score(x_t, y_t)\n",
    "\n",
    "        myRLS_ours.add_obs(x_t.T, y_t)\n",
    "        myUncertaintyQuantifier.update(x_t, q_t, s_t)\n",
    "\n",
    "        y_pred_ours_array.append(y_pred_ours_t)\n",
    "        q_array.append(mult_factor * q_t)\n",
    "        covered_ours_array.append(covered_ours_t)\n",
    "    \n",
    "    y_pred_conformal_array = np.array(y_pred_conformal_array)\n",
    "    w_t_conformal_array = np.array(w_t_conformal_array)\n",
    "\n",
    "    y_pred_ours_array = np.array(y_pred_ours_array)\n",
    "    q_array = np.array(q_array)\n",
    "    \n",
    "    coverage_conformal_per_round[k] = np.average(covered_conformal_array)\n",
    "    coverage_ours_per_round[k] = np.average(covered_ours_array)\n",
    "    \n",
    "    # Interval width is twice the chosen conformal score\n",
    "    width_conformal_per_round[k] = 2 * np.average(w_t_conformal_array)\n",
    "    width_ours_per_round[k] = 2 * np.average(q_array)\n",
    "    \n",
    "print('All trials complete')    "
   ]
  },
  {
   "cell_type": "markdown",
   "metadata": {},
   "source": [
    "##### Histograms of marginal coverage and interval width across trials"
   ]
  },
  {
   "cell_type": "code",
   "execution_count": 186,
   "metadata": {},
   "outputs": [
    {
     "data": {
      "image/png": "[encoded data removed]",
      "text/plain": [
       "<Figure size 432x288 with 1 Axes>"
      ]
     },
     "metadata": {
      "needs_background": "light"
     },
     "output_type": "display_data"
    }
   ],
   "source": [
    "# Plot histogram of marginal coverage for both methods across all trials\n",
    "\n",
    "# Set bins as desired\n",
    "bins = np.linspace(1 - delta - 0.05, 1 - delta + 0.05, 50)\n",
    "y_ours, _,  _ = plt.hist(coverage_ours_per_round, bins = bins, color = 'blue', alpha = 0.4, label = 'MVP', edgecolor = 'blue', linewidth = 0.5)\n",
    "y_conformal, _, _ = plt.hist(coverage_conformal_per_round, bins = bins, color = 'orange', alpha = 0.6, label = 'Split-Conformal', edgecolor = 'orange', linewidth = 0.5)\n",
    "max_y_ours = max(y_ours)\n",
    "max_y_conformal = max(y_conformal)\n",
    "y_max = max(max_y_ours, max_y_conformal)\n",
    "\n",
    "plt.axvline(x = 1 - delta, color = 'red', linestyle = '--', linewidth = 0.9)\n",
    "plt.text(1 - delta + 0.003, y_max - 1, '  desired coverage')\n",
    "plt.xlabel('Marginal Coverage')\n",
    "plt.ylabel('No. of Rounds')\n",
    "plt.legend(loc=\"upper left\")\n",
    "plt.title('Marginal Coverage: Split-Conformal vs. MVP')\n",
    "# plt.savefig('marginal-coverage.pdf')\n",
    "plt.show()"
   ]
  },
  {
   "cell_type": "code",
   "execution_count": 187,
   "metadata": {},
   "outputs": [
    {
     "data": {
      "image/png": "[encoded data removed]",
      "text/plain": [
       "<Figure size 432x288 with 1 Axes>"
      ]
     },
     "metadata": {
      "needs_background": "light"
     },
     "output_type": "display_data"
    }
   ],
   "source": [
    "# Plot histogram of prediction interval width for both methods across all trials\n",
    "\n",
    "# Set bins as desired\n",
    "# bins = np.linspace(1 - delta - 0.4, 1 - delta + 0.4, 50)\n",
    "\n",
    "plt.hist(width_ours_per_round, color = 'blue', alpha = 0.4, label = 'MVP', edgecolor = 'blue', linewidth = 0.5)\n",
    "plt.hist(width_conformal_per_round,  color = 'orange', alpha = 0.6, label = 'Split-Conformal', edgecolor = 'orange', linewidth = 0.5)\n",
    "plt.xlabel('Average Interval Width')\n",
    "plt.ylabel('No. of Rounds')\n",
    "plt.legend()\n",
    "plt.title('Average interval width: Split-Conformal vs. MVP')\n",
    "# plt.savefig('average-interval-width.pdf')\n",
    "plt.show()"
   ]
  }
 ],
 "metadata": {
  "colab": {
   "name": "Linear Regression Experiment.ipynb",
   "provenance": []
  },
  "kernelspec": {
   "display_name": "Python 3 (ipykernel)",
   "language": "python",
   "name": "python3"
  },
  "language_info": {
   "codemirror_mode": {
    "name": "ipython",
    "version": 3
   },
   "file_extension": ".py",
   "mimetype": "text/x-python",
   "name": "python",
   "nbconvert_exporter": "python",
   "pygments_lexer": "ipython3",
   "version": "3.9.12"
  }
 },
 "nbformat": 4,
 "nbformat_minor": 1
}
